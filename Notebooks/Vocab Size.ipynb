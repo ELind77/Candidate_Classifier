{
 "cells": [
  {
   "cell_type": "code",
   "execution_count": 14,
   "metadata": {
    "collapsed": true
   },
   "outputs": [],
   "source": [
    "import numpy as np\n",
    "from collections import Counter\n",
    "import pandas as pd\n",
    "import itertools as it\n",
    "import sklearn as sk\n",
    "from nltk.corpus import stopwords\n",
    "\n",
    "from load_data import docs, labels, candidates\n",
    "from candidate_classifier.string_processing import TransformerABC"
   ]
  },
  {
   "cell_type": "code",
   "execution_count": 13,
   "metadata": {
    "collapsed": true
   },
   "outputs": [],
   "source": [
    "stops = set(stopwords.words('english'))"
   ]
  },
  {
   "cell_type": "code",
   "execution_count": 7,
   "metadata": {
    "collapsed": false
   },
   "outputs": [],
   "source": [
    "df = pd.DataFrame({'words': docs, 'candidate': labels})"
   ]
  },
  {
   "cell_type": "code",
   "execution_count": 42,
   "metadata": {
    "collapsed": false
   },
   "outputs": [],
   "source": [
    "transformer = TransformerABC(prefilter_substitutions=('lower', 'punct'))\n",
    "transformer_stops = TransformerABC(prefilter_substitutions=('lower', 'punct'), filters=['len', lambda w: w in stops])"
   ]
  },
  {
   "cell_type": "code",
   "execution_count": null,
   "metadata": {
    "collapsed": true
   },
   "outputs": [],
   "source": []
  },
  {
   "cell_type": "code",
   "execution_count": 43,
   "metadata": {
    "collapsed": false
   },
   "outputs": [],
   "source": [
    "word_counts = {}\n",
    "\n",
    "for candidate, group in df.groupby('candidate'):\n",
    "    word_counts[candidate] = Counter(it.chain.from_iterable(transformer(doc) for doc in group.words))\n",
    "\n",
    "word_counts_no_stops = {}\n",
    "for candidate, group in df.groupby('candidate'):\n",
    "    word_counts_no_stops[candidate] = Counter(it.chain.from_iterable(transformer_stops(doc) for doc in group.words))"
   ]
  },
  {
   "cell_type": "code",
   "execution_count": 41,
   "metadata": {
    "collapsed": false
   },
   "outputs": [
    {
     "data": {
      "text/plain": [
       "{u'BUSH': 1923,\n",
       " u'CARSON': 1786,\n",
       " u'CHRISTIE': 1556,\n",
       " u'CLINTON': 2664,\n",
       " u'CRUZ': 2415,\n",
       " u'KASICH': 1764,\n",
       " u'RUBIO': 2326,\n",
       " u'SANDERS': 2416,\n",
       " u'TRUMP': 1801}"
      ]
     },
     "execution_count": 41,
     "metadata": {},
     "output_type": "execute_result"
    }
   ],
   "source": [
    "vocab_sizes = {k: len(v) for k, v in word_counts.iteritems()} \n",
    "vocab_sizes"
   ]
  },
  {
   "cell_type": "code",
   "execution_count": 46,
   "metadata": {
    "collapsed": false
   },
   "outputs": [
    {
     "data": {
      "text/plain": [
       "{u'BUSH': 1692,\n",
       " u'CARSON': 1561,\n",
       " u'CHRISTIE': 1325,\n",
       " u'CLINTON': 2415,\n",
       " u'CRUZ': 2163,\n",
       " u'KASICH': 1543,\n",
       " u'RUBIO': 2073,\n",
       " u'SANDERS': 2157,\n",
       " u'TRUMP': 1557}"
      ]
     },
     "execution_count": 46,
     "metadata": {},
     "output_type": "execute_result"
    }
   ],
   "source": [
    "vocab_sizes_no_stops = {k: len(v) for k, v in word_counts_no_stops.iteritems()}\n",
    "vocab_sizes_no_stops"
   ]
  },
  {
   "cell_type": "code",
   "execution_count": null,
   "metadata": {
    "collapsed": true
   },
   "outputs": [],
   "source": []
  }
 ],
 "metadata": {
  "kernelspec": {
   "display_name": "Python 2",
   "language": "python",
   "name": "python2"
  },
  "language_info": {
   "codemirror_mode": {
    "name": "ipython",
    "version": 2
   },
   "file_extension": ".py",
   "mimetype": "text/x-python",
   "name": "python",
   "nbconvert_exporter": "python",
   "pygments_lexer": "ipython2",
   "version": "2.7.6"
  },
  "widgets": {
   "state": {},
   "version": "1.1.2"
  }
 },
 "nbformat": 4,
 "nbformat_minor": 0
}
