{
 "cells": [
  {
   "cell_type": "code",
   "execution_count": 1,
   "metadata": {
    "collapsed": true
   },
   "outputs": [],
   "source": [
    "import os\n",
    "import itertools\n",
    "from spacy.en import English\n",
    "import numpy as np"
   ]
  },
  {
   "cell_type": "code",
   "execution_count": 2,
   "metadata": {
    "collapsed": false
   },
   "outputs": [
    {
     "data": {
      "text/plain": [
       "'/mnt/Storage/Coding_Projects/Candidate_Classifier'"
      ]
     },
     "execution_count": 2,
     "metadata": {},
     "output_type": "execute_result"
    }
   ],
   "source": [
    "os.chdir(\"..\")\n",
    "os.getcwd()"
   ]
  },
  {
   "cell_type": "code",
   "execution_count": 3,
   "metadata": {
    "collapsed": false
   },
   "outputs": [
    {
     "data": {
      "text/plain": [
       "'/mnt/Storage/Coding_Projects/Candidate_Classifier'"
      ]
     },
     "execution_count": 3,
     "metadata": {},
     "output_type": "execute_result"
    }
   ],
   "source": [
    "os.getcwd()"
   ]
  },
  {
   "cell_type": "code",
   "execution_count": 4,
   "metadata": {
    "collapsed": false
   },
   "outputs": [],
   "source": [
    "from candidate_classifier.string_processing import *\n",
    "from candidate_classifier.nltk_model.ngram_classifier import NgramClassifier, NgramClassifierMulti\n",
    "\n",
    "from candidate_classifier.tokenizers import *"
   ]
  },
  {
   "cell_type": "code",
   "execution_count": 5,
   "metadata": {
    "collapsed": false
   },
   "outputs": [],
   "source": [
    "from sklearn.feature_extraction.text import CountVectorizer, TfidfTransformer\n",
    "from sklearn.naive_bayes import MultinomialNB\n",
    "# from sklearn.cross_validation import cross_val_score\n",
    "from sklearn.pipeline import make_pipeline, Pipeline\n",
    "from sklearn.metrics import make_scorer, classification_report, f1_score\n",
    "# from sklearn.grid_search import GridSearchCV\n",
    "from sklearn.model_selection import cross_val_score, GridSearchCV\n",
    "from sklearn.ensemble import VotingClassifier\n",
    "from sklearn.multiclass import OneVsOneClassifier\n",
    "\n",
    "import codecs\n",
    "from pprint import pprint\n",
    "from time import time\n",
    "import logging"
   ]
  },
  {
   "cell_type": "code",
   "execution_count": 6,
   "metadata": {
    "collapsed": true
   },
   "outputs": [],
   "source": [
    "logger = logging.getLogger()\n",
    "logger.setLevel(logging.INFO)\n",
    "fmt = logging.Formatter('%(asctime)s %(levelname)s %(message)s')\n",
    "hndlr = logging.StreamHandler()\n",
    "hndlr.setFormatter(fmt)\n",
    "logger.addHandler(hndlr)"
   ]
  },
  {
   "cell_type": "code",
   "execution_count": 7,
   "metadata": {
    "collapsed": true
   },
   "outputs": [],
   "source": [
    "sents_path = 'candidate_classifier/data/processed/clean_sents.txt'\n",
    "labels_path = 'candidate_classifier/data/processed/sent_labels.txt'"
   ]
  },
  {
   "cell_type": "code",
   "execution_count": 8,
   "metadata": {
    "collapsed": false
   },
   "outputs": [
    {
     "name": "stdout",
     "output_type": "stream",
     "text": [
      "[u'BUSH', u'CARSON', u'CHRISTIE', u'CLINTON', u'CRUZ', u'KASICH', u'RUBIO', u'SANDERS', u'TRUMP']\n"
     ]
    }
   ],
   "source": [
    "with codecs.open(sents_path, mode='r', encoding='utf-8') as _f:\n",
    "    docs = [l.strip() for l in _f]\n",
    "\n",
    "with codecs.open(labels_path, mode='r', encoding='utf-8') as _f:\n",
    "    labels = [l.strip() for l in _f]\n",
    "\n",
    "candidates = sorted(list(set(labels)))\n",
    "print candidates"
   ]
  },
  {
   "cell_type": "code",
   "execution_count": 9,
   "metadata": {
    "collapsed": true
   },
   "outputs": [],
   "source": [
    "toknizrs = (simple_tokenizer,\n",
    "            lemmas_tokenizer, \n",
    "            lemmas_no_punct,\n",
    "            lemmas_merge_np,\n",
    "            lemmas_merge_ents,\n",
    "            lemmas_merge_np_merge_ents,\n",
    "            lemmas_cased_tokenizer,\n",
    "            lemmas_cased_merge_ents)\n",
    "\n",
    "ng_tokenizers1 = [TransformerABC(prefilter_substitutions=['strip'], tokenizer=t) for t in toknizrs]\n",
    "\n",
    "ng_tokenizers2 = [TransformerABC(prefilter_substitutions=['strip', 'lower'], tokenizer=t) for t in toknizrs]"
   ]
  },
  {
   "cell_type": "code",
   "execution_count": 10,
   "metadata": {
    "collapsed": true
   },
   "outputs": [],
   "source": [
    "# ng_data1 = [list(t(docs)) for t in ng_tokenizers1]"
   ]
  },
  {
   "cell_type": "code",
   "execution_count": 11,
   "metadata": {
    "collapsed": false
   },
   "outputs": [],
   "source": [
    "ng_data2 = [list(t(docs)) for t in ng_tokenizers2]"
   ]
  },
  {
   "cell_type": "code",
   "execution_count": 12,
   "metadata": {
    "collapsed": false
   },
   "outputs": [],
   "source": [
    "# ngram_pipe = Pipeline([\n",
    "#         ('clf', OneVsOneClassifier(NgramClassifier(pad_ngrams=True)))\n",
    "# ])\n",
    "\n",
    "ngram_pipe = Pipeline([\n",
    "        ('clf', NgramClassifierMulti(pad_ngrams=True, n_jobs=-1))\n",
    "])"
   ]
  },
  {
   "cell_type": "code",
   "execution_count": null,
   "metadata": {
    "collapsed": true
   },
   "outputs": [],
   "source": []
  },
  {
   "cell_type": "code",
   "execution_count": 14,
   "metadata": {
    "collapsed": true
   },
   "outputs": [
    {
     "name": "stdout",
     "output_type": "stream",
     "text": [
      "simple_tokenizer\n",
      "[ 0.54421309  0.53359132  0.53997209]\n",
      "0.53925883617\n",
      "\n",
      "\n",
      "lemmas_tokenizer\n",
      "[ 0.57717623  0.5633713   0.58675491]\n",
      "0.575767479881\n",
      "\n",
      "\n",
      "lemmas_no_punct\n",
      "[ 0.57213578  0.55784761  0.58247465]\n",
      "0.570819346765\n",
      "\n",
      "\n",
      "lemmas_merge_np\n",
      "[ 0.56219524  0.54191144  0.55888021]\n",
      "0.554328964724\n",
      "\n",
      "\n",
      "lemmas_merge_ents\n",
      "[ 0.57936097  0.5676273   0.58711447]\n",
      "0.578034248422\n",
      "\n",
      "\n",
      "lemmas_merge_np_merge_ents\n",
      "[ 0.56193059  0.54320551  0.56146713]\n",
      "0.55553440775\n",
      "\n",
      "\n",
      "lemmas_cased_tokenizer\n",
      "[ 0.57684843  0.5633713   0.5867876 ]\n",
      "0.575669107958\n",
      "\n",
      "\n",
      "lemmas_cased_merge_ents\n",
      "[ 0.57936097  0.5676273   0.58711447]\n",
      "0.578034248422\n",
      "\n",
      "\n"
     ]
    }
   ],
   "source": [
    "for i, d in enumerate(ng_data2):\n",
    "    print toknizrs[i].func_name\n",
    "    scores = cross_val_score(ngram_pipe, np.asarray(d), y=labels, cv=3, scoring='f1_weighted')\n",
    "    print scores\n",
    "    print np.mean(scores)\n",
    "    print '\\n'"
   ]
  },
  {
   "cell_type": "code",
   "execution_count": null,
   "metadata": {
    "collapsed": true
   },
   "outputs": [],
   "source": []
  },
  {
   "cell_type": "code",
   "execution_count": 14,
   "metadata": {
    "collapsed": false
   },
   "outputs": [
    {
     "name": "stdout",
     "output_type": "stream",
     "text": [
      "[ 0.57936097  0.5676273   0.58711447]\n",
      "0.578034248422\n"
     ]
    }
   ],
   "source": [
    "# Ratio calculated in normal space\n",
    "scores = cross_val_score(ngram_pipe, np.asarray(ng_data2[4]), y=labels, cv=3, scoring='f1_weighted')\n",
    "print scores\n",
    "print np.mean(scores)"
   ]
  },
  {
   "cell_type": "code",
   "execution_count": 13,
   "metadata": {
    "collapsed": false,
    "scrolled": true
   },
   "outputs": [
    {
     "name": "stdout",
     "output_type": "stream",
     "text": [
      "[ 0.57936097  0.5676273   0.58711447]\n",
      "0.578034248422\n"
     ]
    }
   ],
   "source": [
    "# Ratio in normal space and predict_proba in normal space\n",
    "scores = cross_val_score(ngram_pipe, np.asarray(ng_data2[4]), y=labels, cv=3, scoring='f1_weighted')\n",
    "print scores\n",
    "print np.mean(scores)"
   ]
  },
  {
   "cell_type": "code",
   "execution_count": 16,
   "metadata": {
    "collapsed": false
   },
   "outputs": [
    {
     "name": "stdout",
     "output_type": "stream",
     "text": [
      "[ 0.57520839  0.56867061  0.58508877]\n",
      "0.576322588505\n"
     ]
    }
   ],
   "source": [
    "# Ratio in normal space and predict_proba in normal space\n",
    "# data not lowercased\n",
    "scores = cross_val_score(ngram_pipe, np.asarray(ng_data1[4]), y=labels, cv=3, scoring='f1_weighted')\n",
    "print scores\n",
    "print np.mean(scores)"
   ]
  },
  {
   "cell_type": "code",
   "execution_count": null,
   "metadata": {
    "collapsed": true
   },
   "outputs": [],
   "source": []
  },
  {
   "cell_type": "code",
   "execution_count": null,
   "metadata": {
    "collapsed": true
   },
   "outputs": [],
   "source": []
  },
  {
   "cell_type": "code",
   "execution_count": 13,
   "metadata": {
    "collapsed": false
   },
   "outputs": [
    {
     "name": "stdout",
     "output_type": "stream",
     "text": [
      "[ 0.57936097  0.5676273   0.58711447]\n",
      "0.578034248422\n"
     ]
    }
   ],
   "source": [
    "# Git version: aff3e929ec62bae7041130e447bfbc9b07f5567f\n",
    "scores = cross_val_score(ngram_pipe, np.asarray(ng_data2[4]), y=labels, cv=3, scoring='f1_weighted')\n",
    "print scores\n",
    "print np.mean(scores)"
   ]
  },
  {
   "cell_type": "code",
   "execution_count": 15,
   "metadata": {
    "collapsed": false
   },
   "outputs": [
    {
     "name": "stdout",
     "output_type": "stream",
     "text": [
      "[ 0.57520839  0.56867061  0.58508877]\n",
      "0.576322588505\n"
     ]
    }
   ],
   "source": [
    "# Git version: aff3e929ec62bae7041130e447bfbc9b07f5567f\n",
    "# No lowercase\n",
    "scores = cross_val_score(ngram_pipe, np.asarray(ng_data1[4]), y=labels, cv=3, scoring='f1_weighted')\n",
    "print scores\n",
    "print np.mean(scores)"
   ]
  },
  {
   "cell_type": "code",
   "execution_count": null,
   "metadata": {
    "collapsed": true
   },
   "outputs": [],
   "source": []
  },
  {
   "cell_type": "code",
   "execution_count": 15,
   "metadata": {
    "collapsed": false
   },
   "outputs": [
    {
     "name": "stdout",
     "output_type": "stream",
     "text": [
      "[ 0.57936097  0.5676273   0.58711447]\n",
      "0.578034248422\n"
     ]
    }
   ],
   "source": [
    "# Git version: aff3e929ec62bae7041130e447bfbc9b07f5567f\n",
    "# Scipy 17.1\n",
    "scores = cross_val_score(ngram_pipe, np.asarray(ng_data2[4]), y=labels, cv=3, scoring='f1_weighted')\n",
    "print scores\n",
    "print np.mean(scores)"
   ]
  },
  {
   "cell_type": "code",
   "execution_count": null,
   "metadata": {
    "collapsed": true
   },
   "outputs": [],
   "source": []
  },
  {
   "cell_type": "code",
   "execution_count": null,
   "metadata": {
    "collapsed": true
   },
   "outputs": [],
   "source": []
  },
  {
   "cell_type": "code",
   "execution_count": null,
   "metadata": {
    "collapsed": true
   },
   "outputs": [],
   "source": []
  },
  {
   "cell_type": "code",
   "execution_count": null,
   "metadata": {
    "collapsed": true
   },
   "outputs": [],
   "source": []
  },
  {
   "cell_type": "code",
   "execution_count": null,
   "metadata": {
    "collapsed": true
   },
   "outputs": [],
   "source": []
  },
  {
   "cell_type": "code",
   "execution_count": null,
   "metadata": {
    "collapsed": true
   },
   "outputs": [],
   "source": []
  },
  {
   "cell_type": "code",
   "execution_count": null,
   "metadata": {
    "collapsed": true
   },
   "outputs": [],
   "source": []
  },
  {
   "cell_type": "code",
   "execution_count": 15,
   "metadata": {
    "collapsed": false
   },
   "outputs": [
    {
     "data": {
      "text/plain": [
       "Pipeline(steps=[('clf', OneVsOneClassifier(estimator=NgramClassifier(alpha=0.01, n=4, pad_ngrams=True),\n",
       "          n_jobs=1))])"
      ]
     },
     "execution_count": 15,
     "metadata": {},
     "output_type": "execute_result"
    }
   ],
   "source": [
    "ngram_pipe.fit(np.asarray(ng_data2[4][:1000]), labels[:1000])"
   ]
  },
  {
   "cell_type": "code",
   "execution_count": 16,
   "metadata": {
    "collapsed": true
   },
   "outputs": [
    {
     "ename": "AttributeError",
     "evalue": "'NgramClassifier' object has no attribute 'est'",
     "output_type": "error",
     "traceback": [
      "\u001b[1;31m---------------------------------------------------------------------------\u001b[0m",
      "\u001b[1;31mAttributeError\u001b[0m                            Traceback (most recent call last)",
      "\u001b[1;32m<ipython-input-16-8d065f94372e>\u001b[0m in \u001b[0;36m<module>\u001b[1;34m()\u001b[0m\n\u001b[1;32m----> 1\u001b[1;33m \u001b[0mngram_pipe\u001b[0m\u001b[1;33m.\u001b[0m\u001b[0msteps\u001b[0m\u001b[1;33m[\u001b[0m\u001b[1;36m0\u001b[0m\u001b[1;33m]\u001b[0m\u001b[1;33m[\u001b[0m\u001b[1;36m1\u001b[0m\u001b[1;33m]\u001b[0m\u001b[1;33m.\u001b[0m\u001b[0mestimators_\u001b[0m\u001b[1;33m[\u001b[0m\u001b[1;36m0\u001b[0m\u001b[1;33m]\u001b[0m\u001b[1;33m.\u001b[0m\u001b[0mest\u001b[0m\u001b[1;33m\u001b[0m\u001b[0m\n\u001b[0m",
      "\u001b[1;31mAttributeError\u001b[0m: 'NgramClassifier' object has no attribute 'est'"
     ]
    }
   ],
   "source": [
    "ngram_pipe.steps[0][1].estimators_[0].est"
   ]
  },
  {
   "cell_type": "code",
   "execution_count": 13,
   "metadata": {
    "collapsed": false
   },
   "outputs": [],
   "source": [
    "import pickle as pickle\n",
    "import dill"
   ]
  },
  {
   "cell_type": "code",
   "execution_count": 17,
   "metadata": {
    "collapsed": false,
    "scrolled": true
   },
   "outputs": [],
   "source": [
    "p = pickle.dumps(ngram_pipe)"
   ]
  },
  {
   "cell_type": "code",
   "execution_count": 21,
   "metadata": {
    "collapsed": false
   },
   "outputs": [
    {
     "data": {
      "text/plain": [
       "105017503"
      ]
     },
     "execution_count": 21,
     "metadata": {},
     "output_type": "execute_result"
    }
   ],
   "source": [
    "len(p)"
   ]
  },
  {
   "cell_type": "code",
   "execution_count": 21,
   "metadata": {
    "collapsed": false
   },
   "outputs": [
    {
     "data": {
      "text/plain": [
       "105017503"
      ]
     },
     "execution_count": 21,
     "metadata": {},
     "output_type": "execute_result"
    }
   ],
   "source": [
    "len(p)"
   ]
  },
  {
   "cell_type": "code",
   "execution_count": null,
   "metadata": {
    "collapsed": true
   },
   "outputs": [],
   "source": []
  },
  {
   "cell_type": "code",
   "execution_count": null,
   "metadata": {
    "collapsed": true
   },
   "outputs": [],
   "source": []
  },
  {
   "cell_type": "code",
   "execution_count": null,
   "metadata": {
    "collapsed": true
   },
   "outputs": [],
   "source": []
  },
  {
   "cell_type": "code",
   "execution_count": null,
   "metadata": {
    "collapsed": true
   },
   "outputs": [],
   "source": []
  },
  {
   "cell_type": "code",
   "execution_count": 17,
   "metadata": {
    "collapsed": true
   },
   "outputs": [],
   "source": [
    "def _pickle_method(method):\n",
    "    func_name = method.im_func.__name__\n",
    "    obj = method.im_self\n",
    "    cls = method.im_class\n",
    "    return _unpickle_method, (func_name, obj, cls)\n",
    "\n",
    "def _unpickle_method(func_name, obj, cls):\n",
    "    for cls in cls.mro():\n",
    "        try:\n",
    "            func = cls.__dict__[func_name]\n",
    "        except KeyError:\n",
    "            pass\n",
    "        else:\n",
    "            break\n",
    "    return func.__get__(obj, cls)\n",
    "\n",
    "import copy_reg\n",
    "import types\n",
    "copy_reg.pickle(types.MethodType, _pickle_method, _unpickle_method)\n"
   ]
  },
  {
   "cell_type": "code",
   "execution_count": 29,
   "metadata": {
    "collapsed": false,
    "scrolled": true
   },
   "outputs": [
    {
     "data": {
      "text/plain": [
       "['BooleanType',\n",
       " 'BufferType',\n",
       " 'BuiltinFunctionType',\n",
       " 'BuiltinMethodType',\n",
       " 'ClassType',\n",
       " 'CodeType',\n",
       " 'ComplexType',\n",
       " 'DictProxyType',\n",
       " 'DictType',\n",
       " 'DictionaryType',\n",
       " 'EllipsisType',\n",
       " 'FileType',\n",
       " 'FloatType',\n",
       " 'FrameType',\n",
       " 'FunctionType',\n",
       " 'GeneratorType',\n",
       " 'GetSetDescriptorType',\n",
       " 'InstanceType',\n",
       " 'IntType',\n",
       " 'LambdaType',\n",
       " 'ListType',\n",
       " 'LongType',\n",
       " 'MemberDescriptorType',\n",
       " 'MethodType',\n",
       " 'ModuleType',\n",
       " 'NoneType',\n",
       " 'NotImplementedType',\n",
       " 'ObjectType',\n",
       " 'SliceType',\n",
       " 'StringType',\n",
       " 'StringTypes',\n",
       " 'TracebackType',\n",
       " 'TupleType',\n",
       " 'TypeType',\n",
       " 'UnboundMethodType',\n",
       " 'UnicodeType',\n",
       " 'XRangeType',\n",
       " '__builtins__',\n",
       " '__doc__',\n",
       " '__file__',\n",
       " '__name__',\n",
       " '__package__']"
      ]
     },
     "execution_count": 29,
     "metadata": {},
     "output_type": "execute_result"
    }
   ],
   "source": [
    "dir(types)"
   ]
  },
  {
   "cell_type": "code",
   "execution_count": 19,
   "metadata": {
    "collapsed": false
   },
   "outputs": [
    {
     "data": {
      "text/plain": [
       "0"
      ]
     },
     "execution_count": 19,
     "metadata": {},
     "output_type": "execute_result"
    }
   ],
   "source": [
    "len({})"
   ]
  },
  {
   "cell_type": "code",
   "execution_count": 20,
   "metadata": {
    "collapsed": false
   },
   "outputs": [
    {
     "data": {
      "text/plain": [
       "1"
      ]
     },
     "execution_count": 20,
     "metadata": {},
     "output_type": "execute_result"
    }
   ],
   "source": [
    "len({'foo': 1})"
   ]
  },
  {
   "cell_type": "code",
   "execution_count": null,
   "metadata": {
    "collapsed": true
   },
   "outputs": [],
   "source": []
  }
 ],
 "metadata": {
  "kernelspec": {
   "display_name": "Python 2",
   "language": "python",
   "name": "python2"
  },
  "language_info": {
   "codemirror_mode": {
    "name": "ipython",
    "version": 2
   },
   "file_extension": ".py",
   "mimetype": "text/x-python",
   "name": "python",
   "nbconvert_exporter": "python",
   "pygments_lexer": "ipython2",
   "version": "2.7.6"
  }
 },
 "nbformat": 4,
 "nbformat_minor": 0
}
